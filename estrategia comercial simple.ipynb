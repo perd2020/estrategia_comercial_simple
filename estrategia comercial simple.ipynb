{
 "cells": [
  {
   "cell_type": "markdown",
   "metadata": {},
   "source": [
    "##  estrategia simple de comercio de acciones."
   ]
  },
  {
   "cell_type": "markdown",
   "metadata": {},
   "source": [
    "\n",
    "\n",
    "ESTRATEGIA: \n",
    "\n",
    "Si MA10 es mayor que MA50, el precio de las acciones es creído por algunos comerciantes, que subira en los próximos días. De lo contrario, el precio disminuirá.\n",
    "\n",
    "\n",
    "si MA10 es mayor que MA50, compraremos y mantendremos una acción. Alternativamente hablando, vamos a prolongar una parte de las acciones.\n",
    "\n",
    "A continuación, vamos a calcular el beneficio diario. Primero, creamos la variable Close1, que es el precio de cierre de mañana.\n",
    " A continuación, crearemos una nueva variable llamada \"Ganancia\", que de hecho es el beneficio diario.\n",
    " Si las acciones son iguales a 1, el beneficio diario es igual al precio de cierre de mañana menos el precio de cierre de hoy. Puede ser positivo o negativo. Si es negativo, perdemos dinero ese día. Si las acciones son iguales a 0, significa que no tenemos acciones a mano, el beneficio es igual a cero. Podemos trazar el beneficio y descubrir que en algunos días ganamos dinero, en otros días perdemos dinero.\n",
    "\n",
    " Podemos calcular la riqueza acumulada. Utilizamos el método DataFrame, Cumsum para calcular la suma acumulada y crear una nueva variable Riqueza. \n",
    "\n",
    "Luego, verificamos la parte de cola de DataFrame, y comprobamos si ganamos dinero o perdemos dinero. \n",
    "\n",
    " En la última fila, el beneficio y la riqueza tienen valores NaN, porque esos rendimientos se calculan desde Close1, y Close1 se calcula usando shift (-1). \n",
    "\n",
    "Por lo tanto, para obtener una riqueza terminal usando loc, el nivel del índice debe ser ms.index [-2]. \n",
    "\n",
    "Luego, imprimimos la riqueza, que de hecho es una suma de ganancias. \n",
    "\n"
   ]
  },
  {
   "cell_type": "code",
   "execution_count": 1,
   "metadata": {},
   "outputs": [],
   "source": [
    "import pandas as pd\n",
    "import matplotlib.pyplot as plt\n",
    "%matplotlib inline"
   ]
  },
  {
   "cell_type": "markdown",
   "metadata": {},
   "source": [
    "### ESTRATEGIA PARA ACCIONES DE FACEBOOCK\n",
    "\n",
    "importando los datos de stock de FB, luego agregue dos columnas: MA10 y MA50\n",
    " ademas,  use dropna para eliminar cualquier dato que no sea un numero\n"
   ]
  },
  {
   "cell_type": "code",
   "execution_count": 2,
   "metadata": {},
   "outputs": [
    {
     "data": {
      "text/html": [
       "<div>\n",
       "<style scoped>\n",
       "    .dataframe tbody tr th:only-of-type {\n",
       "        vertical-align: middle;\n",
       "    }\n",
       "\n",
       "    .dataframe tbody tr th {\n",
       "        vertical-align: top;\n",
       "    }\n",
       "\n",
       "    .dataframe thead th {\n",
       "        text-align: right;\n",
       "    }\n",
       "</style>\n",
       "<table border=\"1\" class=\"dataframe\">\n",
       "  <thead>\n",
       "    <tr style=\"text-align: right;\">\n",
       "      <th></th>\n",
       "      <th>Date</th>\n",
       "      <th>Open</th>\n",
       "      <th>High</th>\n",
       "      <th>Low</th>\n",
       "      <th>Close</th>\n",
       "      <th>Adj Close</th>\n",
       "      <th>Volume;Open;High;Low;Adj Close;Volume;Columna7;Columna8;Columna9</th>\n",
       "      <th>MA10</th>\n",
       "      <th>MA50</th>\n",
       "    </tr>\n",
       "  </thead>\n",
       "  <tbody>\n",
       "    <tr>\n",
       "      <th>49</th>\n",
       "      <td>2015-03-13</td>\n",
       "      <td>22.559999</td>\n",
       "      <td>22.760000</td>\n",
       "      <td>22.250000</td>\n",
       "      <td>22.700001</td>\n",
       "      <td>22.116024</td>\n",
       "      <td>8982200;;;;;;;;</td>\n",
       "      <td>22.648</td>\n",
       "      <td>21.0174</td>\n",
       "    </tr>\n",
       "    <tr>\n",
       "      <th>50</th>\n",
       "      <td>2015-03-16</td>\n",
       "      <td>22.879999</td>\n",
       "      <td>23.110001</td>\n",
       "      <td>22.730000</td>\n",
       "      <td>22.969999</td>\n",
       "      <td>22.379078</td>\n",
       "      <td>5923900;;;;;;;;</td>\n",
       "      <td>22.685</td>\n",
       "      <td>21.0758</td>\n",
       "    </tr>\n",
       "    <tr>\n",
       "      <th>51</th>\n",
       "      <td>2015-03-17</td>\n",
       "      <td>22.920000</td>\n",
       "      <td>23.260000</td>\n",
       "      <td>22.760000</td>\n",
       "      <td>23.250000</td>\n",
       "      <td>22.651876</td>\n",
       "      <td>7497500;;;;;;;;</td>\n",
       "      <td>22.792</td>\n",
       "      <td>21.1382</td>\n",
       "    </tr>\n",
       "    <tr>\n",
       "      <th>52</th>\n",
       "      <td>2015-03-18</td>\n",
       "      <td>23.250000</td>\n",
       "      <td>23.370001</td>\n",
       "      <td>22.660000</td>\n",
       "      <td>22.870001</td>\n",
       "      <td>22.281652</td>\n",
       "      <td>10337600;;;;;;;;</td>\n",
       "      <td>22.836</td>\n",
       "      <td>21.1998</td>\n",
       "    </tr>\n",
       "    <tr>\n",
       "      <th>53</th>\n",
       "      <td>2015-03-19</td>\n",
       "      <td>22.950001</td>\n",
       "      <td>23.299999</td>\n",
       "      <td>22.780001</td>\n",
       "      <td>23.219999</td>\n",
       "      <td>22.622650</td>\n",
       "      <td>7768900;;;;;;;;</td>\n",
       "      <td>22.872</td>\n",
       "      <td>21.2804</td>\n",
       "    </tr>\n",
       "  </tbody>\n",
       "</table>\n",
       "</div>"
      ],
      "text/plain": [
       "          Date       Open       High        Low      Close  Adj Close  \\\n",
       "49  2015-03-13  22.559999  22.760000  22.250000  22.700001  22.116024   \n",
       "50  2015-03-16  22.879999  23.110001  22.730000  22.969999  22.379078   \n",
       "51  2015-03-17  22.920000  23.260000  22.760000  23.250000  22.651876   \n",
       "52  2015-03-18  23.250000  23.370001  22.660000  22.870001  22.281652   \n",
       "53  2015-03-19  22.950001  23.299999  22.780001  23.219999  22.622650   \n",
       "\n",
       "   Volume;Open;High;Low;Adj Close;Volume;Columna7;Columna8;Columna9    MA10  \\\n",
       "49                                    8982200;;;;;;;;                22.648   \n",
       "50                                    5923900;;;;;;;;                22.685   \n",
       "51                                    7497500;;;;;;;;                22.792   \n",
       "52                                   10337600;;;;;;;;                22.836   \n",
       "53                                    7768900;;;;;;;;                22.872   \n",
       "\n",
       "       MA50  \n",
       "49  21.0174  \n",
       "50  21.0758  \n",
       "51  21.1382  \n",
       "52  21.1998  \n",
       "53  21.2804  "
      ]
     },
     "execution_count": 2,
     "metadata": {},
     "output_type": "execute_result"
    }
   ],
   "source": [
    "fb = pd.read_csv('facebook.csv')\n",
    "fb['MA10'] = fb['Close'].rolling(10).mean()\n",
    "fb['MA50'] = fb['Close'].rolling(50).mean()\n",
    "fb = fb.dropna()\n",
    "fb.head()"
   ]
  },
  {
   "cell_type": "markdown",
   "metadata": {},
   "source": [
    "La media móvil durante un largo período refleja el cambio de precio a lo largo de la historia a largo plazo, que llamamos señal lenta. \n",
    "Creamos MA10 y MA50, que son señal rápida y señal lenta respectivamente. \n",
    "Luego, trazamos el precio de cierre MA10 y MA50. Si MA10 es mayor que MA50, el precio de las acciones es creído por algunos comerciantes, que sube en los próximos días. De lo contrario, el precio disminuirá."
   ]
  },
  {
   "cell_type": "code",
   "execution_count": 3,
   "metadata": {},
   "outputs": [
    {
     "data": {
      "text/plain": [
       "<AxesSubplot:>"
      ]
     },
     "execution_count": 3,
     "metadata": {},
     "output_type": "execute_result"
    },
    {
     "data": {
      "image/png": "[encoded data removed]",
      "text/plain": [
       "<Figure size 432x288 with 1 Axes>"
      ]
     },
     "metadata": {
      "needs_background": "light"
     },
     "output_type": "display_data"
    }
   ],
   "source": [
    "fb['Close'].plot(legend =True)\n",
    "fb['MA10'].plot(legend = True)\n",
    "fb['MA50'].plot(legend =True)"
   ]
  },
  {
   "cell_type": "markdown",
   "metadata": {},
   "source": [
    "Agregue la columna \"Acciones\" para tomar decisiones basadas en la estrategia\n",
    "\n",
    "Moving Average de corto período está más estrechamente asociado con el cambio reciente del precio de las acciones, \n",
    "que llamamos Fast Signal.\n",
    "La media móvil durante un largo período refleja el cambio de precio a lo largo de la historia a largo plazo, \n",
    "que llamamos señal lenta. \n",
    "Creamos MA10 y MA50, que son señal rápida y señal lenta respectivamente.\n",
    " Luego, trazamos el precio de cierre MA10 y MA50. Si MA10 es mayor que MA50, el precio de las acciones es \n",
    "creído por algunos comerciantes,\n",
    "que sube en los próximos días. De lo contrario, el precio disminuirá.\n"
   ]
  },
  {
   "cell_type": "code",
   "execution_count": 17,
   "metadata": {},
   "outputs": [],
   "source": [
    "#### Agregue una nueva columna \"Acciones\", si MA10>MA50, indique como 1 (una acción larga), de lo contrario, indique como 0 (no hacer nada)\n",
    "fb['Acciones'] = [1 if fb.loc[ei, 'MA10']>fb.loc[ei, 'MA50'] else 0 for ei in fb.index]\n"
   ]
  },
  {
   "cell_type": "markdown",
   "metadata": {},
   "source": [
    "Agregue una nueva columna de beneficio \"Ganancia\" usando Comprensión de lista, \n",
    "para cualquier fila en fb, si las acciones  = 1,\n",
    "el beneficio se calcula como el precio de cierre de\n",
    "mañana: el precio de cierre de hoy. \n",
    "De lo contrario, la ganancia es 0.\n",
    "\n",
    "luego mediante un gráfico se muestra  la ganancia o pérdida"
   ]
  },
  {
   "cell_type": "code",
   "execution_count": 5,
   "metadata": {},
   "outputs": [
    {
     "data": {
      "text/plain": [
       "<matplotlib.lines.Line2D at 0x1f32a2b57c0>"
      ]
     },
     "execution_count": 5,
     "metadata": {},
     "output_type": "execute_result"
    },
    {
     "data": {
      "image/png": "[encoded data removed]",
      "text/plain": [
       "<Figure size 432x288 with 1 Axes>"
      ]
     },
     "metadata": {
      "needs_background": "light"
     },
     "output_type": "display_data"
    }
   ],
   "source": [
    "fb['Close1'] = fb['Close'].shift(-1)\n",
    "fb['Ganancia'] = [fb.loc[ei, 'Close1'] - fb.loc[ei, 'Close'] if fb.loc[ei, 'Acciones']==1 else 0 for ei in fb.index]\n",
    "fb['Ganancia'].plot()\n",
    "plt.axhline(y=0, color='red')"
   ]
  },
  {
   "cell_type": "markdown",
   "metadata": {},
   "source": [
    "### aplicando .cumsum() para mostrar el rendimiento o la \"Riqueza\" acumulada durante el periodo de nuestro modelo si seguimos la estrategia"
   ]
  },
  {
   "cell_type": "code",
   "execution_count": 6,
   "metadata": {},
   "outputs": [
    {
     "data": {
      "text/html": [
       "<div>\n",
       "<style scoped>\n",
       "    .dataframe tbody tr th:only-of-type {\n",
       "        vertical-align: middle;\n",
       "    }\n",
       "\n",
       "    .dataframe tbody tr th {\n",
       "        vertical-align: top;\n",
       "    }\n",
       "\n",
       "    .dataframe thead th {\n",
       "        text-align: right;\n",
       "    }\n",
       "</style>\n",
       "<table border=\"1\" class=\"dataframe\">\n",
       "  <thead>\n",
       "    <tr style=\"text-align: right;\">\n",
       "      <th></th>\n",
       "      <th>Date</th>\n",
       "      <th>Open</th>\n",
       "      <th>High</th>\n",
       "      <th>Low</th>\n",
       "      <th>Close</th>\n",
       "      <th>Adj Close</th>\n",
       "      <th>Volume;Open;High;Low;Adj Close;Volume;Columna7;Columna8;Columna9</th>\n",
       "      <th>MA10</th>\n",
       "      <th>MA50</th>\n",
       "      <th>Acciones</th>\n",
       "      <th>Close1</th>\n",
       "      <th>Ganancia</th>\n",
       "      <th>Riqueza</th>\n",
       "    </tr>\n",
       "  </thead>\n",
       "  <tbody>\n",
       "    <tr>\n",
       "      <th>775</th>\n",
       "      <td>2018-01-30</td>\n",
       "      <td>241.110001</td>\n",
       "      <td>246.419998</td>\n",
       "      <td>238.410004</td>\n",
       "      <td>242.720001</td>\n",
       "      <td>242.720001</td>\n",
       "      <td>14270800;;;;;;;;</td>\n",
       "      <td>235.692003</td>\n",
       "      <td>210.030001</td>\n",
       "      <td>1</td>\n",
       "      <td>245.800003</td>\n",
       "      <td>3.080002</td>\n",
       "      <td>177.820011</td>\n",
       "    </tr>\n",
       "    <tr>\n",
       "      <th>776</th>\n",
       "      <td>2018-01-31</td>\n",
       "      <td>245.770004</td>\n",
       "      <td>249.270004</td>\n",
       "      <td>244.449997</td>\n",
       "      <td>245.800003</td>\n",
       "      <td>245.800003</td>\n",
       "      <td>11964400;;;;;;;;</td>\n",
       "      <td>237.800003</td>\n",
       "      <td>210.713801</td>\n",
       "      <td>1</td>\n",
       "      <td>240.500000</td>\n",
       "      <td>-5.300003</td>\n",
       "      <td>172.520008</td>\n",
       "    </tr>\n",
       "    <tr>\n",
       "      <th>777</th>\n",
       "      <td>2018-02-01</td>\n",
       "      <td>238.520004</td>\n",
       "      <td>246.899994</td>\n",
       "      <td>238.059998</td>\n",
       "      <td>240.500000</td>\n",
       "      <td>240.500000</td>\n",
       "      <td>12980600;;;;;;;;</td>\n",
       "      <td>239.406003</td>\n",
       "      <td>211.296601</td>\n",
       "      <td>1</td>\n",
       "      <td>233.520004</td>\n",
       "      <td>-6.979996</td>\n",
       "      <td>165.540012</td>\n",
       "    </tr>\n",
       "    <tr>\n",
       "      <th>778</th>\n",
       "      <td>2018-02-02</td>\n",
       "      <td>237.000000</td>\n",
       "      <td>237.970001</td>\n",
       "      <td>231.169998</td>\n",
       "      <td>233.520004</td>\n",
       "      <td>233.520004</td>\n",
       "      <td>17961600;;;;;;;;</td>\n",
       "      <td>239.747003</td>\n",
       "      <td>211.685401</td>\n",
       "      <td>1</td>\n",
       "      <td>213.699997</td>\n",
       "      <td>-19.820007</td>\n",
       "      <td>145.720005</td>\n",
       "    </tr>\n",
       "    <tr>\n",
       "      <th>779</th>\n",
       "      <td>2018-02-05</td>\n",
       "      <td>227.000000</td>\n",
       "      <td>233.229996</td>\n",
       "      <td>205.000000</td>\n",
       "      <td>213.699997</td>\n",
       "      <td>213.699997</td>\n",
       "      <td>28869000;;;;;;;;</td>\n",
       "      <td>237.748003</td>\n",
       "      <td>211.638401</td>\n",
       "      <td>1</td>\n",
       "      <td>NaN</td>\n",
       "      <td>NaN</td>\n",
       "      <td>NaN</td>\n",
       "    </tr>\n",
       "  </tbody>\n",
       "</table>\n",
       "</div>"
      ],
      "text/plain": [
       "           Date        Open        High         Low       Close   Adj Close  \\\n",
       "775  2018-01-30  241.110001  246.419998  238.410004  242.720001  242.720001   \n",
       "776  2018-01-31  245.770004  249.270004  244.449997  245.800003  245.800003   \n",
       "777  2018-02-01  238.520004  246.899994  238.059998  240.500000  240.500000   \n",
       "778  2018-02-02  237.000000  237.970001  231.169998  233.520004  233.520004   \n",
       "779  2018-02-05  227.000000  233.229996  205.000000  213.699997  213.699997   \n",
       "\n",
       "    Volume;Open;High;Low;Adj Close;Volume;Columna7;Columna8;Columna9  \\\n",
       "775                                   14270800;;;;;;;;                 \n",
       "776                                   11964400;;;;;;;;                 \n",
       "777                                   12980600;;;;;;;;                 \n",
       "778                                   17961600;;;;;;;;                 \n",
       "779                                   28869000;;;;;;;;                 \n",
       "\n",
       "           MA10        MA50  Acciones      Close1   Ganancia     Riqueza  \n",
       "775  235.692003  210.030001         1  245.800003   3.080002  177.820011  \n",
       "776  237.800003  210.713801         1  240.500000  -5.300003  172.520008  \n",
       "777  239.406003  211.296601         1  233.520004  -6.979996  165.540012  \n",
       "778  239.747003  211.685401         1  213.699997 -19.820007  145.720005  \n",
       "779  237.748003  211.638401         1         NaN        NaN         NaN  "
      ]
     },
     "execution_count": 6,
     "metadata": {},
     "output_type": "execute_result"
    }
   ],
   "source": [
    "fb['Riqueza'] = fb['Ganancia'].cumsum()\n",
    "fb.tail()"
   ]
  },
  {
   "cell_type": "markdown",
   "metadata": {},
   "source": [
    "verificamos la parte de cola de DataFrame, y comprobamos si ganamos dinero o perdemos dinero. \n",
    "\n",
    "En general, esta estrategia gana alrededor de $146.\n",
    "\n",
    " En la última fila, el beneficio y la riqueza tienen valores NaN, porque esos rendimientos se calculan desde Close1, y Close1 se calcula usando shift (-1). \n",
    "\n",
    "Por lo tanto, para obtener una riqueza terminal usando loc, el nivel del índice debe ser ms.index [-2]. \n",
    "\n",
    "Luego, imprimimos la riqueza, que de hecho es una suma de ganancias. \n",
    "\n",
    "Para obtener este beneficio, tenemos que comprar una parte de las acciones inicialmente. Por lo tanto, nuestra inversión inicial es un precio de las acciones en el primer día."
   ]
  },
  {
   "cell_type": "markdown",
   "metadata": {},
   "source": [
    "#### trazar la riqueza para mostrar el crecimiento de las ganancias durante el período"
   ]
  },
  {
   "cell_type": "code",
   "execution_count": 9,
   "metadata": {},
   "outputs": [
    {
     "data": {
      "text/plain": [
       "Text(0.5, 1.0, 'dinero total ganado es 145.72000500000001')"
      ]
     },
     "execution_count": 9,
     "metadata": {},
     "output_type": "execute_result"
    },
    {
     "data": {
      "image/png": "[encoded data removed]",
      "text/plain": [
       "<Figure size 432x288 with 1 Axes>"
      ]
     },
     "metadata": {
      "needs_background": "light"
     },
     "output_type": "display_data"
    }
   ],
   "source": [
    "fb['Riqueza'].plot()\n",
    "plt.title('dinero total ganado es {}'.format(fb.loc[fb.index[-2], 'Riqueza']))"
   ]
  },
  {
   "cell_type": "markdown",
   "metadata": {},
   "source": [
    "## APLICAMOS LA MISMA ESTRATEGIA PARA LAS ACCIONES DE MICROSOFT\n",
    "\n"
   ]
  },
  {
   "cell_type": "code",
   "execution_count": 10,
   "metadata": {},
   "outputs": [
    {
     "data": {
      "text/html": [
       "<div>\n",
       "<style scoped>\n",
       "    .dataframe tbody tr th:only-of-type {\n",
       "        vertical-align: middle;\n",
       "    }\n",
       "\n",
       "    .dataframe tbody tr th {\n",
       "        vertical-align: top;\n",
       "    }\n",
       "\n",
       "    .dataframe thead th {\n",
       "        text-align: right;\n",
       "    }\n",
       "</style>\n",
       "<table border=\"1\" class=\"dataframe\">\n",
       "  <thead>\n",
       "    <tr style=\"text-align: right;\">\n",
       "      <th></th>\n",
       "      <th>Date</th>\n",
       "      <th>Open</th>\n",
       "      <th>High</th>\n",
       "      <th>Low</th>\n",
       "      <th>Close</th>\n",
       "      <th>Adj Close</th>\n",
       "      <th>Volume</th>\n",
       "      <th>MA10</th>\n",
       "      <th>MA50</th>\n",
       "    </tr>\n",
       "  </thead>\n",
       "  <tbody>\n",
       "    <tr>\n",
       "      <th>49</th>\n",
       "      <td>2015-03-13</td>\n",
       "      <td>40.700001</td>\n",
       "      <td>41.470001</td>\n",
       "      <td>40.610001</td>\n",
       "      <td>41.380001</td>\n",
       "      <td>38.443489</td>\n",
       "      <td>58007700</td>\n",
       "      <td>42.495</td>\n",
       "      <td>44.0034</td>\n",
       "    </tr>\n",
       "    <tr>\n",
       "      <th>50</th>\n",
       "      <td>2015-03-16</td>\n",
       "      <td>41.470001</td>\n",
       "      <td>41.639999</td>\n",
       "      <td>41.279999</td>\n",
       "      <td>41.560001</td>\n",
       "      <td>38.610714</td>\n",
       "      <td>35273500</td>\n",
       "      <td>42.263</td>\n",
       "      <td>43.9056</td>\n",
       "    </tr>\n",
       "    <tr>\n",
       "      <th>51</th>\n",
       "      <td>2015-03-17</td>\n",
       "      <td>41.369999</td>\n",
       "      <td>41.830002</td>\n",
       "      <td>41.150002</td>\n",
       "      <td>41.700001</td>\n",
       "      <td>38.740784</td>\n",
       "      <td>31587200</td>\n",
       "      <td>42.105</td>\n",
       "      <td>43.8044</td>\n",
       "    </tr>\n",
       "    <tr>\n",
       "      <th>52</th>\n",
       "      <td>2015-03-18</td>\n",
       "      <td>41.430000</td>\n",
       "      <td>42.830002</td>\n",
       "      <td>41.330002</td>\n",
       "      <td>42.500000</td>\n",
       "      <td>39.484009</td>\n",
       "      <td>43971800</td>\n",
       "      <td>42.049</td>\n",
       "      <td>43.7278</td>\n",
       "    </tr>\n",
       "    <tr>\n",
       "      <th>53</th>\n",
       "      <td>2015-03-19</td>\n",
       "      <td>42.259998</td>\n",
       "      <td>42.590000</td>\n",
       "      <td>42.220001</td>\n",
       "      <td>42.290001</td>\n",
       "      <td>39.288918</td>\n",
       "      <td>33879100</td>\n",
       "      <td>41.967</td>\n",
       "      <td>43.6606</td>\n",
       "    </tr>\n",
       "  </tbody>\n",
       "</table>\n",
       "</div>"
      ],
      "text/plain": [
       "          Date       Open       High        Low      Close  Adj Close  \\\n",
       "49  2015-03-13  40.700001  41.470001  40.610001  41.380001  38.443489   \n",
       "50  2015-03-16  41.470001  41.639999  41.279999  41.560001  38.610714   \n",
       "51  2015-03-17  41.369999  41.830002  41.150002  41.700001  38.740784   \n",
       "52  2015-03-18  41.430000  42.830002  41.330002  42.500000  39.484009   \n",
       "53  2015-03-19  42.259998  42.590000  42.220001  42.290001  39.288918   \n",
       "\n",
       "      Volume    MA10     MA50  \n",
       "49  58007700  42.495  44.0034  \n",
       "50  35273500  42.263  43.9056  \n",
       "51  31587200  42.105  43.8044  \n",
       "52  43971800  42.049  43.7278  \n",
       "53  33879100  41.967  43.6606  "
      ]
     },
     "execution_count": 10,
     "metadata": {},
     "output_type": "execute_result"
    }
   ],
   "source": [
    "ms = pd.read_csv('microsoft.csv')\n",
    "ms['MA10'] = ms['Close'].rolling(10).mean()\n",
    "ms['MA50'] = ms['Close'].rolling(50).mean()\n",
    "ms = ms.dropna()\n",
    "ms.head()"
   ]
  },
  {
   "cell_type": "code",
   "execution_count": 16,
   "metadata": {},
   "outputs": [
    {
     "data": {
      "text/plain": [
       "<AxesSubplot:>"
      ]
     },
     "execution_count": 16,
     "metadata": {},
     "output_type": "execute_result"
    },
    {
     "data": {
      "image/png": "[encoded data removed]",
      "text/plain": [
       "<Figure size 432x288 with 1 Axes>"
      ]
     },
     "metadata": {
      "needs_background": "light"
     },
     "output_type": "display_data"
    }
   ],
   "source": [
    "ms['Close'].plot(legend =True)\n",
    "ms['MA10'].plot(legend = True)\n",
    "ms['MA50'].plot(legend =True)"
   ]
  },
  {
   "cell_type": "markdown",
   "metadata": {},
   "source": [
    "#### Agregue una nueva columna \"Acciones\", si MA10>MA50, indique como 1 (una acción larga), de lo contrario, indique como 0 (no hacer nada)"
   ]
  },
  {
   "cell_type": "code",
   "execution_count": 11,
   "metadata": {},
   "outputs": [],
   "source": [
    "ms['Acciones'] = [1 if ms.loc[ei, 'MA10']>ms.loc[ei, 'MA50'] else 0 for ei in ms.index]"
   ]
  },
  {
   "cell_type": "code",
   "execution_count": 12,
   "metadata": {},
   "outputs": [
    {
     "data": {
      "text/plain": [
       "<matplotlib.lines.Line2D at 0x1f32b703f70>"
      ]
     },
     "execution_count": 12,
     "metadata": {},
     "output_type": "execute_result"
    },
    {
     "data": {
      "image/png": "[encoded data removed]",
      "text/plain": [
       "<Figure size 432x288 with 1 Axes>"
      ]
     },
     "metadata": {
      "needs_background": "light"
     },
     "output_type": "display_data"
    }
   ],
   "source": [
    "ms['Close1'] = ms['Close'].shift(-1)\n",
    "ms['Ganancia'] = [ms.loc[ei, 'Close1'] - ms.loc[ei, 'Close'] if ms.loc[ei, 'Acciones']==1 else 0 for ei in ms.index]\n",
    "ms['Ganancia'].plot()\n",
    "plt.axhline(y=0, color='red')"
   ]
  },
  {
   "cell_type": "code",
   "execution_count": 13,
   "metadata": {},
   "outputs": [
    {
     "data": {
      "text/html": [
       "<div>\n",
       "<style scoped>\n",
       "    .dataframe tbody tr th:only-of-type {\n",
       "        vertical-align: middle;\n",
       "    }\n",
       "\n",
       "    .dataframe tbody tr th {\n",
       "        vertical-align: top;\n",
       "    }\n",
       "\n",
       "    .dataframe thead th {\n",
       "        text-align: right;\n",
       "    }\n",
       "</style>\n",
       "<table border=\"1\" class=\"dataframe\">\n",
       "  <thead>\n",
       "    <tr style=\"text-align: right;\">\n",
       "      <th></th>\n",
       "      <th>Date</th>\n",
       "      <th>Open</th>\n",
       "      <th>High</th>\n",
       "      <th>Low</th>\n",
       "      <th>Close</th>\n",
       "      <th>Adj Close</th>\n",
       "      <th>Volume</th>\n",
       "      <th>MA10</th>\n",
       "      <th>MA50</th>\n",
       "      <th>Acciones</th>\n",
       "      <th>Close1</th>\n",
       "      <th>Ganancia</th>\n",
       "      <th>Riqueza</th>\n",
       "    </tr>\n",
       "  </thead>\n",
       "  <tbody>\n",
       "    <tr>\n",
       "      <th>775</th>\n",
       "      <td>2018-01-30</td>\n",
       "      <td>93.300003</td>\n",
       "      <td>93.660004</td>\n",
       "      <td>92.099998</td>\n",
       "      <td>92.739998</td>\n",
       "      <td>92.306389</td>\n",
       "      <td>38635100</td>\n",
       "      <td>91.862</td>\n",
       "      <td>86.5244</td>\n",
       "      <td>1</td>\n",
       "      <td>95.010002</td>\n",
       "      <td>2.270004</td>\n",
       "      <td>30.540009</td>\n",
       "    </tr>\n",
       "    <tr>\n",
       "      <th>776</th>\n",
       "      <td>2018-01-31</td>\n",
       "      <td>93.750000</td>\n",
       "      <td>95.400002</td>\n",
       "      <td>93.510002</td>\n",
       "      <td>95.010002</td>\n",
       "      <td>94.565781</td>\n",
       "      <td>48756300</td>\n",
       "      <td>92.349</td>\n",
       "      <td>86.7606</td>\n",
       "      <td>1</td>\n",
       "      <td>94.260002</td>\n",
       "      <td>-0.750000</td>\n",
       "      <td>29.790009</td>\n",
       "    </tr>\n",
       "    <tr>\n",
       "      <th>777</th>\n",
       "      <td>2018-02-01</td>\n",
       "      <td>94.790001</td>\n",
       "      <td>96.070000</td>\n",
       "      <td>93.580002</td>\n",
       "      <td>94.260002</td>\n",
       "      <td>93.819290</td>\n",
       "      <td>47227900</td>\n",
       "      <td>92.765</td>\n",
       "      <td>86.9978</td>\n",
       "      <td>1</td>\n",
       "      <td>91.779999</td>\n",
       "      <td>-2.480003</td>\n",
       "      <td>27.310006</td>\n",
       "    </tr>\n",
       "    <tr>\n",
       "      <th>778</th>\n",
       "      <td>2018-02-02</td>\n",
       "      <td>93.639999</td>\n",
       "      <td>93.970001</td>\n",
       "      <td>91.500000</td>\n",
       "      <td>91.779999</td>\n",
       "      <td>91.350883</td>\n",
       "      <td>47867800</td>\n",
       "      <td>92.943</td>\n",
       "      <td>87.1828</td>\n",
       "      <td>1</td>\n",
       "      <td>88.000000</td>\n",
       "      <td>-3.779999</td>\n",
       "      <td>23.530007</td>\n",
       "    </tr>\n",
       "    <tr>\n",
       "      <th>779</th>\n",
       "      <td>2018-02-05</td>\n",
       "      <td>90.559998</td>\n",
       "      <td>93.239998</td>\n",
       "      <td>88.000000</td>\n",
       "      <td>88.000000</td>\n",
       "      <td>87.588554</td>\n",
       "      <td>51031500</td>\n",
       "      <td>92.582</td>\n",
       "      <td>87.2684</td>\n",
       "      <td>1</td>\n",
       "      <td>NaN</td>\n",
       "      <td>NaN</td>\n",
       "      <td>NaN</td>\n",
       "    </tr>\n",
       "  </tbody>\n",
       "</table>\n",
       "</div>"
      ],
      "text/plain": [
       "           Date       Open       High        Low      Close  Adj Close  \\\n",
       "775  2018-01-30  93.300003  93.660004  92.099998  92.739998  92.306389   \n",
       "776  2018-01-31  93.750000  95.400002  93.510002  95.010002  94.565781   \n",
       "777  2018-02-01  94.790001  96.070000  93.580002  94.260002  93.819290   \n",
       "778  2018-02-02  93.639999  93.970001  91.500000  91.779999  91.350883   \n",
       "779  2018-02-05  90.559998  93.239998  88.000000  88.000000  87.588554   \n",
       "\n",
       "       Volume    MA10     MA50  Acciones     Close1  Ganancia    Riqueza  \n",
       "775  38635100  91.862  86.5244         1  95.010002  2.270004  30.540009  \n",
       "776  48756300  92.349  86.7606         1  94.260002 -0.750000  29.790009  \n",
       "777  47227900  92.765  86.9978         1  91.779999 -2.480003  27.310006  \n",
       "778  47867800  92.943  87.1828         1  88.000000 -3.779999  23.530007  \n",
       "779  51031500  92.582  87.2684         1        NaN       NaN        NaN  "
      ]
     },
     "execution_count": 13,
     "metadata": {},
     "output_type": "execute_result"
    }
   ],
   "source": [
    "ms['Riqueza'] = ms['Ganancia'].cumsum()\n",
    "ms.tail()"
   ]
  },
  {
   "cell_type": "markdown",
   "metadata": {},
   "source": [
    "verificamos la parte de cola de DataFrame, y comprobamos si ganamos dinero o perdemos dinero. \n",
    "\n",
    "En general, esta estrategia gana alrededor de $24.\n",
    "\n",
    " En la última fila, el beneficio y la riqueza tienen valores NaN, porque esos rendimientos se calculan desde Close1, y Close1 se calcula usando shift (-1). \n",
    "\n",
    "Por lo tanto, para obtener una riqueza terminal usando loc, el nivel del índice debe ser ms.index [-2]. \n",
    "\n",
    "Luego, imprimimos la riqueza, que de hecho es una suma de ganancias. \n"
   ]
  },
  {
   "cell_type": "code",
   "execution_count": 15,
   "metadata": {},
   "outputs": [
    {
     "data": {
      "text/plain": [
       "Text(0.5, 1.0, 'dinero total ganado es 23.53000699999999')"
      ]
     },
     "execution_count": 15,
     "metadata": {},
     "output_type": "execute_result"
    },
    {
     "data": {
      "image/png": "[encoded data removed]",
      "text/plain": [
       "<Figure size 432x288 with 1 Axes>"
      ]
     },
     "metadata": {
      "needs_background": "light"
     },
     "output_type": "display_data"
    }
   ],
   "source": [
    "ms['Riqueza'].plot()\n",
    "plt.title('dinero total ganado es {}'.format(ms.loc[ms.index[-2], 'Riqueza']))"
   ]
  },
  {
   "cell_type": "markdown",
   "metadata": {},
   "source": [
    "## CONCLUSION:\n",
    "FACEBOOCK:dinero total ganado en el periodo es de  145.72000500000001\n",
    "\n",
    "MICROSOFT:dinero total ganado en el periodo es de  23.53000699999999\n",
    "\n",
    "Para obtener este beneficio, tenemos que comprar una parte de las acciones inicialmente. Por lo tanto, nuestra inversión inicial es un precio de las acciones en el primer día.\n",
    "\n",
    " Esta estrategia parece ser muy prometedora, pero hay muchas preguntas si quieres implementarla en el mercado real. \n",
    "\n",
    "¿ Podemos encontrar una mejor señal para operar?\n",
    "¿ Cómo evalúa correctamente el rendimiento de la estrategia compartida? \n"
   ]
  },
  {
   "cell_type": "code",
   "execution_count": null,
   "metadata": {},
   "outputs": [],
   "source": []
  }
 ],
 "metadata": {
  "kernelspec": {
   "display_name": "Python 3 (ipykernel)",
   "language": "python",
   "name": "python3"
  },
  "language_info": {
   "codemirror_mode": {
    "name": "ipython",
    "version": 3
   },
   "file_extension": ".py",
   "mimetype": "text/x-python",
   "name": "python",
   "nbconvert_exporter": "python",
   "pygments_lexer": "ipython3",
   "version": "3.9.7"
  }
 },
 "nbformat": 4,
 "nbformat_minor": 2
}
